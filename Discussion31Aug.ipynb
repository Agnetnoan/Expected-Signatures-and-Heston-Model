{
 "cells": [
  {
   "cell_type": "markdown",
   "id": "ff8d601f-eb69-4305-96e0-f257c0e9e56a",
   "metadata": {},
   "source": [
    "Signatory: https://github.com/patrick-kidger/signatory "
   ]
  },
  {
   "cell_type": "code",
   "execution_count": 6,
   "id": "a5e1e53b-8de2-42ea-8420-8705fbcd0728",
   "metadata": {},
   "outputs": [],
   "source": [
    "from src.HestonModel import generate_heston_paths\n",
    "import numpy as np"
   ]
  },
  {
   "cell_type": "code",
   "execution_count": 2,
   "id": "dc8940dc-a0b3-428c-a042-9db9514fc1e9",
   "metadata": {},
   "outputs": [],
   "source": [
    "kappa = 3\n",
    "theta = 0.02\n",
    "v_0 = 0.02 #  = reversion_level\n",
    "sigma = 0.6\n",
    "r = 0.04\n",
    "S = 100  # regard as fixed\n",
    "paths = 10000 # check if this is sufficient\n",
    "steps = 10000 # decrease\n",
    "T = 1\n",
    "rho = 0.75 # this is also a heston parameter"
   ]
  },
  {
   "cell_type": "code",
   "execution_count": 3,
   "id": "8410e624-ddbf-4baf-9ec2-79bab93b7c9e",
   "metadata": {},
   "outputs": [
    {
     "data": {
      "application/vnd.jupyter.widget-view+json": {
       "model_id": "21ef7b040d304cdaa6c04a9d31590182",
       "version_major": 2,
       "version_minor": 0
      },
      "text/plain": [
       "HBox(children=(FloatProgress(value=0.0, max=10000.0), HTML(value='')))"
      ]
     },
     "metadata": {},
     "output_type": "display_data"
    },
    {
     "name": "stdout",
     "output_type": "stream",
     "text": [
      "\n"
     ]
    }
   ],
   "source": [
    "prices, sigs = generate_heston_paths(S, T, r, kappa, theta, v_0, rho, sigma, steps, paths, return_vol=True)"
   ]
  },
  {
   "cell_type": "markdown",
   "id": "edc4bd1f-46dd-4993-9d47-133b72873d8e",
   "metadata": {},
   "source": [
    "## Important \n",
    "Include `prices` and `sigs` in signature computation. "
   ]
  },
  {
   "cell_type": "code",
   "execution_count": 4,
   "id": "40fa4f79-e9c0-4e3a-aa82-d2650225f2a4",
   "metadata": {},
   "outputs": [
    {
     "data": {
      "text/plain": [
       "(10000, 10000)"
      ]
     },
     "execution_count": 4,
     "metadata": {},
     "output_type": "execute_result"
    }
   ],
   "source": [
    "prices.shape"
   ]
  },
  {
   "cell_type": "code",
   "execution_count": 20,
   "id": "46f030c9-57f5-46e5-abe7-1ef1c613a744",
   "metadata": {},
   "outputs": [],
   "source": [
    "time_array = np.arange(steps)\n",
    "prices_with_time = np.zeros((paths, 2, steps))\n",
    "prices_with_time[0]\n",
    "\n",
    "for i in range(paths):\n",
    "    prices_with_time[i] = np.array([prices[i], time_array]) # couple also with sigs"
   ]
  },
  {
   "cell_type": "code",
   "execution_count": 21,
   "id": "dd44eaa9-5137-4003-8968-85401c139c9a",
   "metadata": {},
   "outputs": [
    {
     "data": {
      "text/plain": [
       "10000"
      ]
     },
     "execution_count": 21,
     "metadata": {},
     "output_type": "execute_result"
    }
   ],
   "source": [
    "len(prices_with_time)"
   ]
  },
  {
   "cell_type": "code",
   "execution_count": 22,
   "id": "04b92115-36e3-4641-b0c8-a299960d75d2",
   "metadata": {},
   "outputs": [
    {
     "data": {
      "text/plain": [
       "(2, 10000)"
      ]
     },
     "execution_count": 22,
     "metadata": {},
     "output_type": "execute_result"
    }
   ],
   "source": [
    "prices_with_time[0].shape"
   ]
  },
  {
   "cell_type": "markdown",
   "id": "7657b108-150a-4c4f-92a9-2e50c965aafb",
   "metadata": {},
   "source": [
    "### Convention\n",
    "\n",
    "So if you have an array, it is comfortable to use the convention\n",
    "- `axis=0` samples\n",
    "- `axis=1` time steps\n",
    "- `axis=2` dimension of the process\n",
    "\n",
    "Example:"
   ]
  },
  {
   "cell_type": "code",
   "execution_count": 14,
   "id": "cbbf3d08-06f7-4367-ba17-34bc99f8d711",
   "metadata": {},
   "outputs": [],
   "source": [
    "number_of_realizations = 1000\n",
    "number_of_time_steps = 100"
   ]
  },
  {
   "cell_type": "code",
   "execution_count": 15,
   "id": "369e7cf3-c775-44a1-9de8-139f1e3ccd2c",
   "metadata": {},
   "outputs": [],
   "source": [
    "foo = np.random.multivariate_normal(np.zeros(2), np.eye(2), (number_of_realizations, number_of_time_steps))"
   ]
  },
  {
   "cell_type": "code",
   "execution_count": 16,
   "id": "805a8cae-bb53-4e46-96c3-ea68771b5406",
   "metadata": {},
   "outputs": [
    {
     "data": {
      "text/plain": [
       "(1000, 100, 2)"
      ]
     },
     "execution_count": 16,
     "metadata": {},
     "output_type": "execute_result"
    }
   ],
   "source": [
    "foo.shape"
   ]
  },
  {
   "cell_type": "markdown",
   "id": "8be0faab-58e9-4cc7-ad84-b147d2bbc06f",
   "metadata": {},
   "source": [
    "### Path Length\n",
    "\n",
    "Usually financial data is does not have that many time steps."
   ]
  },
  {
   "cell_type": "code",
   "execution_count": 18,
   "id": "40386175-ebf1-44d8-bea5-8b003c1199aa",
   "metadata": {},
   "outputs": [
    {
     "data": {
      "text/plain": [
       "39.21568627450981"
      ]
     },
     "execution_count": 18,
     "metadata": {},
     "output_type": "execute_result"
    }
   ],
   "source": [
    "10000/255 "
   ]
  },
  {
   "cell_type": "markdown",
   "id": "baa3aa2e-7612-495f-a13b-6c924e9f57b7",
   "metadata": {},
   "source": [
    "## Goal of the implementation\n",
    "\n",
    "We have a range of expected signatures given.\n",
    "$$\n",
    "(S_0 \\pm \\lambda_0, S_1 \\pm \\lambda_1, S_2 \\pm \\lambda_2, S_3 \\pm \\lambda_3, ... )\n",
    "$$\n",
    "Later $\\sum \\lambda_i^2 = 1$.\n",
    "\n",
    "Question: How can we choose the Heston parameters such that we are in this environment."
   ]
  },
  {
   "cell_type": "markdown",
   "id": "a244b04d-d93d-49c9-b107-a69e8bf4465f",
   "metadata": {},
   "source": [
    "Conjecture: The set of parameters is convex."
   ]
  }
 ],
 "metadata": {
  "kernelspec": {
   "display_name": "ARDH",
   "language": "python",
   "name": "ardh"
  },
  "language_info": {
   "codemirror_mode": {
    "name": "ipython",
    "version": 3
   },
   "file_extension": ".py",
   "mimetype": "text/x-python",
   "name": "python",
   "nbconvert_exporter": "python",
   "pygments_lexer": "ipython3",
   "version": "3.8.0"
  }
 },
 "nbformat": 4,
 "nbformat_minor": 5
}
